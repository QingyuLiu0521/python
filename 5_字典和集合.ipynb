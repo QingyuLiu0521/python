{
 "cells": [
  {
   "cell_type": "markdown",
   "metadata": {},
   "source": [
    "# 五、字典和集合\n",
    "## 1. 字典\n",
    "### 1.1 字典基础\n",
    "字典: 由键值对组成的数据结构\n",
    "\n",
    "- 字典的每个键值 `key:value` 对用冒号 `:` 分割，每个键值对之间用逗号 `,` 分割，整个字典包括在花括号 `{}` \n",
    "- 初始化空字典用`d = {}` 或 `d = dict()`\n",
    "- 键的唯一性：一个字典不能有相同的键\n",
    "- 键的不可变性：键必须是**不可变的类型**，比如字符串、数字、元组"
   ]
  },
  {
   "cell_type": "code",
   "execution_count": 2,
   "metadata": {},
   "outputs": [
    {
     "name": "stdout",
     "output_type": "stream",
     "text": [
      "{}\n",
      "{}\n",
      "{'wav_name': 'B000_S000_W000', 'duration': 3.62, 'text': 'Hello, world!'}\n"
     ]
    }
   ],
   "source": [
    "d1 = {}\n",
    "d2 = dict()\n",
    "d3 = {\"wav_name\": \"B000_S000_W000\", \"duration\": 3.62, \"text\": \"Hello, world!\"}\n",
    "print(d1)\n",
    "print(d2)\n",
    "print(d3)"
   ]
  },
  {
   "cell_type": "markdown",
   "metadata": {},
   "source": [
    "### 1.2 字典常用操作\n",
    "增加/修改 键值对：`d[key] = value`\n",
    "\n",
    "> 如果key存在则修改这个key对应的值 ；如果key不存在则新增此键值对"
   ]
  },
  {
   "cell_type": "code",
   "execution_count": 3,
   "metadata": {},
   "outputs": [
    {
     "name": "stdout",
     "output_type": "stream",
     "text": [
      "{'wav_name': 'B000_S000_W000', 'duration': 3.62, 'text': 'Hello, world!'}\n",
      "{'wav_name': 'B000_S000_W000', 'duration': 3.62, 'text': 'Hello, world!', 'lang': 'eng'}\n",
      "{'wav_name': 'B000_S000_W000', 'duration': 7.89, 'text': 'Hello, world!', 'lang': 'eng'}\n"
     ]
    }
   ],
   "source": [
    "d4 = {\"wav_name\": \"B000_S000_W000\", \"duration\": 3.62, \"text\": \"Hello, world!\"}\n",
    "print(d4)\n",
    "d4[\"lang\"] = \"eng\"      # key不存在，新增此键值对\n",
    "print(d4)\n",
    "d4[\"duration\"] = 7.89   # key存在，修改这个key对应的值\n",
    "print(d4)"
   ]
  },
  {
   "cell_type": "markdown",
   "metadata": {},
   "source": [
    "删除操作：\n",
    "\n",
    "- `del`：删除字典中指定键值对"
   ]
  },
  {
   "cell_type": "code",
   "execution_count": 4,
   "metadata": {},
   "outputs": [
    {
     "name": "stdout",
     "output_type": "stream",
     "text": [
      "{'wav_name': 'B000_S000_W000', 'duration': 3.62, 'text': 'Hello, world!', 'lang': 'eng'}\n",
      "{'wav_name': 'B000_S000_W000', 'duration': 3.62, 'text': 'Hello, world!'}\n"
     ]
    }
   ],
   "source": [
    "d5 = {\"wav_name\": \"B000_S000_W000\", \"duration\": 3.62, \"text\": \"Hello, world!\", \"lang\": \"eng\"}\n",
    "print(d5)\n",
    "del d5[\"lang\"]\n",
    "print(d5)"
   ]
  },
  {
   "cell_type": "markdown",
   "metadata": {},
   "source": [
    "- `clear()`: 清空字典"
   ]
  },
  {
   "cell_type": "code",
   "execution_count": 5,
   "metadata": {},
   "outputs": [
    {
     "name": "stdout",
     "output_type": "stream",
     "text": [
      "{'wav_name': 'B000_S000_W000', 'duration': 3.62, 'text': 'Hello, world!', 'lang': 'eng'}\n",
      "{}\n"
     ]
    }
   ],
   "source": [
    "d5 = {\"wav_name\": \"B000_S000_W000\", \"duration\": 3.62, \"text\": \"Hello, world!\", \"lang\": \"eng\"}\n",
    "print(d5)\n",
    "d5.clear()\n",
    "print(d5)"
   ]
  },
  {
   "cell_type": "markdown",
   "metadata": {},
   "source": [
    "查找操作：\n",
    "- 直接用key值查找对应value\n",
    "- 更安全的操作`get()`：键不存在时返回默认值"
   ]
  },
  {
   "cell_type": "code",
   "execution_count": 8,
   "metadata": {},
   "outputs": [
    {
     "name": "stdout",
     "output_type": "stream",
     "text": [
      "B000_S000_W000\n",
      "B000_S000_W000\n",
      "None\n"
     ]
    }
   ],
   "source": [
    "d6 = {\"wav_name\": \"B000_S000_W000\", \"duration\": 3.62, \"text\": \"Hello, world!\", \"lang\": \"eng\"}\n",
    "print(d6[\"wav_name\"])\n",
    "print(d6.get(\"wav_name\"))\n",
    "print(d6.get(\"dnsmos\"))"
   ]
  },
  {
   "cell_type": "markdown",
   "metadata": {},
   "source": [
    "查找字典的不同部分：\n",
    "- `keys()`: 获取所有键\n",
    "- `values()`: 获取所有值\n",
    "- `items()`: 获取所有键值对"
   ]
  },
  {
   "cell_type": "code",
   "execution_count": 9,
   "metadata": {},
   "outputs": [
    {
     "name": "stdout",
     "output_type": "stream",
     "text": [
      "dict_keys(['wav_name', 'duration', 'text', 'lang'])\n",
      "dict_values(['B000_S000_W000', 3.62, 'Hello, world!', 'eng'])\n",
      "dict_items([('wav_name', 'B000_S000_W000'), ('duration', 3.62), ('text', 'Hello, world!'), ('lang', 'eng')])\n"
     ]
    }
   ],
   "source": [
    "d7 = {\"wav_name\": \"B000_S000_W000\", \"duration\": 3.62, \"text\": \"Hello, world!\", \"lang\": \"eng\"}\n",
    "print(d7.keys())\n",
    "print(d7.values())\n",
    "print(d7.items())"
   ]
  },
  {
   "cell_type": "markdown",
   "metadata": {},
   "source": [
    "### 1.3 字典的遍历"
   ]
  },
  {
   "cell_type": "code",
   "execution_count": 13,
   "metadata": {},
   "outputs": [
    {
     "name": "stdout",
     "output_type": "stream",
     "text": [
      "------------------------------\n",
      "wav_name\n",
      "duration\n",
      "text\n",
      "lang\n",
      "------------------------------\n",
      "B000_S000_W000\n",
      "3.62\n",
      "Hello, world!\n",
      "eng\n",
      "------------------------------\n",
      "wav_name: B000_S000_W000\n",
      "duration: 3.62\n",
      "text: Hello, world!\n",
      "lang: eng\n",
      "------------------------------\n"
     ]
    }
   ],
   "source": [
    "d8 = {\"wav_name\": \"B000_S000_W000\", \"duration\": 3.62, \"text\": \"Hello, world!\", \"lang\": \"eng\"}\n",
    "print(\"------------------------------\")\n",
    "for key in d8.keys(): # 遍历key\n",
    "    print(key)\n",
    "print(\"------------------------------\")\n",
    "for value in d8.values(): # 遍历value\n",
    "    print(value)\n",
    "print(\"------------------------------\")\n",
    "for key, value in d8.items(): # 同时遍历key和value\n",
    "    print(f'{key}: {value}')\n",
    "print(\"------------------------------\")"
   ]
  },
  {
   "cell_type": "markdown",
   "metadata": {},
   "source": [
    "### 1.4 字典推导式\n",
    "字典推导式：一种简洁创建字典的方法\n",
    "\n",
    "- 基本语法：`{键表达式: 值表达式 for 变量 in 可迭代对象 if 条件}`\n",
    "\n",
    "例1：将两个列表合并成字典"
   ]
  },
  {
   "cell_type": "code",
   "execution_count": 16,
   "metadata": {},
   "outputs": [
    {
     "data": {
      "text/plain": [
       "{'wav_name': 'B000_S000_W000',\n",
       " 'duration': 3.62,\n",
       " 'text': 'Hello, world!',\n",
       " 'lang': 'eng'}"
      ]
     },
     "execution_count": 16,
     "metadata": {},
     "output_type": "execute_result"
    }
   ],
   "source": [
    "myKeys = ['wav_name', 'duration', 'text', 'lang']\n",
    "myValues = ['B000_S000_W000', 3.62, 'Hello, world!', 'eng']\n",
    "d9 = {myKeys[i]:myValues[i] for i in range(len(myKeys))}\n",
    "d9\n",
    "\n",
    "'''\n",
    "{'wav_name': 'B000_S000_W000',\n",
    " 'duration': 3.62,\n",
    " 'text': 'Hello, world!',\n",
    " 'lang': 'eng'}\n",
    "'''"
   ]
  },
  {
   "cell_type": "markdown",
   "metadata": {},
   "source": [
    "例2：提取字典中符合条件的数据"
   ]
  },
  {
   "cell_type": "code",
   "execution_count": 23,
   "metadata": {},
   "outputs": [
    {
     "name": "stdout",
     "output_type": "stream",
     "text": [
      "{'B003_S010_W079': 10.98, 'B004_S012_W000': 6.43, 'B005_S049_W085': 3.84}\n"
     ]
    }
   ],
   "source": [
    "def filter(wav_name: str):\n",
    "    '''\n",
    "    只挑选出key的第一部分\"bxxx\"中数字大于等于3的数据\n",
    "    '''\n",
    "    parts = wav_name.split('_')\n",
    "    b_num = parts[0][1:]    \n",
    "    return (int(b_num) >= 3)\n",
    "    \n",
    "\n",
    "wav_dict = {\"B000_S000_W000\": 6.54, \n",
    "            \"B002_S023_W045\": 8.19,\n",
    "            \"B003_S010_W079\": 10.98,\n",
    "            \"B004_S012_W000\": 6.43,\n",
    "            \"B005_S049_W085\": 3.84}\n",
    "\n",
    "wav_dict = {key: value for key, value in wav_dict.items() if filter(key)}\n",
    "print(wav_dict)"
   ]
  },
  {
   "cell_type": "markdown",
   "metadata": {},
   "source": [
    "## 2. 集合\n",
    "### 2.1 集合基础\n",
    "集合: 一组**不重复**元素的无序集合\n",
    "\n",
    "- 集合中的元素用逗号 , 分割，整个集合包括在花括号 {} 中\n",
    "- 初始化空集合用 `s = set()`（注意：`s = {} `创建的是空字典!!!）"
   ]
  },
  {
   "cell_type": "code",
   "execution_count": 25,
   "metadata": {},
   "outputs": [
    {
     "name": "stdout",
     "output_type": "stream",
     "text": [
      "{1, 2, 3, 4, 5}\n",
      "s2's type: set\n",
      "d9's type: dict\n"
     ]
    }
   ],
   "source": [
    "s1 = {1, 2, 3, 4, 5}\n",
    "s2 = set()\n",
    "d9 = {}\n",
    "print(s1)\n",
    "print(f\"s2\\'s type: {type(s2).__name__}\")\n",
    "print(f\"d9\\'s type: {type(d9).__name__}\")"
   ]
  },
  {
   "cell_type": "markdown",
   "metadata": {},
   "source": [
    "### 2.2 集合常用操作\n",
    "增加数据：\n",
    "\n",
    "- `add()`: 增加单个元素\n",
    "- `update()`: 往集合中一次性追加另一个序列中的多个值"
   ]
  },
  {
   "cell_type": "code",
   "execution_count": 26,
   "metadata": {},
   "outputs": [
    {
     "name": "stdout",
     "output_type": "stream",
     "text": [
      "{1, 2, 3, 4, 5}\n",
      "{1, 2, 3, 4, 5, 6}\n",
      "{1, 2, 3, 4, 5, 6, 7, 8, 9}\n"
     ]
    }
   ],
   "source": [
    "s3 = {1, 2, 3, 4, 5}\n",
    "print(s3)\n",
    "s3.add(6)\n",
    "print(s3)\n",
    "s3.update([7, 8, 9])\n",
    "print(s3)"
   ]
  },
  {
   "cell_type": "markdown",
   "metadata": {},
   "source": [
    "删除操作：\n",
    "\n",
    "- `remove()`: 删除指定元素，如果元素不存在会报错"
   ]
  },
  {
   "cell_type": "code",
   "execution_count": 28,
   "metadata": {},
   "outputs": [
    {
     "name": "stdout",
     "output_type": "stream",
     "text": [
      "{1, 2, 4, 5}\n"
     ]
    }
   ],
   "source": [
    "s4 = {1, 2, 3, 4, 5}\n",
    "s4.remove(3)\n",
    "print(s4)"
   ]
  },
  {
   "cell_type": "markdown",
   "metadata": {},
   "source": [
    "- `discard()`: 删除指定元素，如果元素不存在不会报错"
   ]
  },
  {
   "cell_type": "code",
   "execution_count": 30,
   "metadata": {},
   "outputs": [
    {
     "name": "stdout",
     "output_type": "stream",
     "text": [
      "{1, 2, 4, 5}\n",
      "{1, 2, 4, 5}\n"
     ]
    }
   ],
   "source": [
    "s5 = {1, 2, 3, 4, 5}\n",
    "s5.discard(3)\n",
    "print(s5)\n",
    "s5.discard(6)\n",
    "print(s5)"
   ]
  },
  {
   "cell_type": "markdown",
   "metadata": {},
   "source": [
    "- `pop()`: 随机删除一个元素并返回该元素"
   ]
  },
  {
   "cell_type": "code",
   "execution_count": 37,
   "metadata": {},
   "outputs": [
    {
     "name": "stdout",
     "output_type": "stream",
     "text": [
      "1\n",
      "{2, 3, 4, 5}\n"
     ]
    }
   ],
   "source": [
    "s6 = {1, 2, 3, 4, 5}\n",
    "value = s6.pop()\n",
    "print(value)\n",
    "print(s6)"
   ]
  },
  {
   "cell_type": "markdown",
   "metadata": {},
   "source": [
    "- `clear()`: 清空集合"
   ]
  },
  {
   "cell_type": "code",
   "execution_count": 38,
   "metadata": {},
   "outputs": [
    {
     "name": "stdout",
     "output_type": "stream",
     "text": [
      "{1, 2, 3, 4, 5}\n",
      "set()\n"
     ]
    }
   ],
   "source": [
    "s7 = {1, 2, 3, 4, 5}\n",
    "print(s7)\n",
    "s7.clear()\n",
    "print(s7)"
   ]
  },
  {
   "cell_type": "markdown",
   "metadata": {},
   "source": [
    "查找操作：\n",
    "\n",
    "- `in`：判断数据在集合序列\n",
    "- `not in`：判断数据不在集合序列"
   ]
  },
  {
   "cell_type": "code",
   "execution_count": 39,
   "metadata": {},
   "outputs": [
    {
     "name": "stdout",
     "output_type": "stream",
     "text": [
      "True\n",
      "False\n"
     ]
    }
   ],
   "source": [
    "s8 = {1, 2, 3, 4, 5}\n",
    "print(1 in s8)\n",
    "print(1 not in s8)"
   ]
  },
  {
   "cell_type": "markdown",
   "metadata": {},
   "source": [
    "### 2.3 集合推导式\n",
    "集合推导式：一种简洁创建集合的方法\n",
    "\n",
    "- 基本语法（同字典推导式）：`{表达式 for 变量 in 可迭代对象 if 条件}`"
   ]
  },
  {
   "cell_type": "code",
   "execution_count": 45,
   "metadata": {},
   "outputs": [
    {
     "name": "stdout",
     "output_type": "stream",
     "text": [
      "{1, 9, 81, 49, 25}\n"
     ]
    }
   ],
   "source": [
    "s9 = {x**2 for x in range(10) if x % 2} # 0~9中，奇数的平方\n",
    "print(s9)"
   ]
  },
  {
   "cell_type": "markdown",
   "metadata": {},
   "source": [
    "### 2.4 集合的常用例子\n",
    "词汇表构建的简单例子: NLP和TTS预处理的常用操作"
   ]
  },
  {
   "cell_type": "code",
   "execution_count": 53,
   "metadata": {},
   "outputs": [
    {
     "name": "stdout",
     "output_type": "stream",
     "text": [
      "{'friend', 'name', 'hello', 'is', 'my', 'momo', 'super', 'world'}\n"
     ]
    }
   ],
   "source": [
    "import string\n",
    "myList = [\"Hello, world!\",\n",
    "          \"My name is Super momo.\",\n",
    "          \"Hello my friend.\"]\n",
    "\n",
    "vocab_set = set()\n",
    "for text in myList:\n",
    "    text = ''.join(char for char in text if char not in string.punctuation)\n",
    "    words = text.split()\n",
    "    words = [word.lower() for word in words]\n",
    "    vocab_set.update(words)\n",
    "\n",
    "print(vocab_set)"
   ]
  }
 ],
 "metadata": {
  "kernelspec": {
   "display_name": "d2l",
   "language": "python",
   "name": "python3"
  },
  "language_info": {
   "codemirror_mode": {
    "name": "ipython",
    "version": 3
   },
   "file_extension": ".py",
   "mimetype": "text/x-python",
   "name": "python",
   "nbconvert_exporter": "python",
   "pygments_lexer": "ipython3",
   "version": "3.9.15"
  }
 },
 "nbformat": 4,
 "nbformat_minor": 2
}
