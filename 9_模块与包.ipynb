{
 "cells": [
  {
   "cell_type": "markdown",
   "metadata": {},
   "source": [
    "# 九、模块与包"
   ]
  },
  {
   "cell_type": "markdown",
   "metadata": {},
   "source": [
    "## 1. 模块\n",
    "### 1.1 模块基本概念\n",
    "Python模块（Module），是一个`.py`结尾的python文件，包含了 Python 代码、函数、类和变量等程序元素。\n",
    "\n",
    "模块能定义：\n",
    "\n",
    "- 函数\n",
    "- 类\n",
    "- 变量\n",
    "- 可执行代码\n",
    "\n",
    "导入模块的方式：\n",
    "\n",
    "- `import 模块名`: 导入整个模块\n",
    "- `from 模块名 import 函数名/类名/变量名`: 从模块中导入特定的元素\n",
    "- `from 模块名 import *`: 导入模块中的所有内容(不推荐)\n",
    "- `import 模块名 as 别名`: 给导入的模块起别名\n",
    "- `from 模块名 import 函数名 as 别名`: 给导入的函数起别名\n",
    "\n",
    "例1：导入整个模块，使用时需要通过`math.`前缀来访问模块中的函数"
   ]
  },
  {
   "cell_type": "code",
   "execution_count": 10,
   "metadata": {},
   "outputs": [
    {
     "name": "stdout",
     "output_type": "stream",
     "text": [
      "2.23606797749979\n"
     ]
    }
   ],
   "source": [
    "import math\n",
    "print(math.sqrt(5))"
   ]
  },
  {
   "cell_type": "markdown",
   "metadata": {},
   "source": [
    "例2：只导入`sqrt`函数；可以直接使用`sqrt`函数，无需模块前缀"
   ]
  },
  {
   "cell_type": "code",
   "execution_count": 11,
   "metadata": {},
   "outputs": [
    {
     "name": "stdout",
     "output_type": "stream",
     "text": [
      "2.23606797749979\n"
     ]
    }
   ],
   "source": [
    "from math import sqrt\n",
    "print(sqrt(5))"
   ]
  },
  {
   "cell_type": "markdown",
   "metadata": {},
   "source": [
    "### 1.2 创建模块\n",
    "创建模块非常简单，只需要编写一个`.py`文件即可。\n",
    "\n",
    "> `test_module`\n",
    "\n",
    "例：\n",
    "\n",
    "```py\n",
    "'''\n",
    "myMath.py\n",
    "'''\n",
    "def mySquare(x):\n",
    "    return x * x\n",
    "\n",
    "# 如果模块被直接运行，__name__的值为'__main__'\n",
    "# 如果模块被导入，__name__的值为模块名\n",
    "if __name__ == '__main__':\n",
    "    # 只有直接运行该py，才会执行下面的语句\n",
    "    print(mySquare(3))\n",
    "```\n",
    "\n",
    "```py\n",
    "'''\n",
    "test_module.py\n",
    "'''\n",
    "\n",
    "from myMath import mySquare\n",
    "print(mySquare(10))\n",
    "```"
   ]
  },
  {
   "cell_type": "markdown",
   "metadata": {},
   "source": [
    "### 1.3 模块搜索路径\n",
    "当导入模块时，Python 解释器会按照以下顺序搜索模块：\n",
    "\n",
    "1. 当前目录\n",
    "2. PYTHONPATH 环境变量中的目录\n",
    "3. Python 标准库目录\n",
    "4. site-packages 目录（第三方模块）\n",
    "\n",
    "可以通过`sys.path`查看和修改模块搜索路径：\n",
    "\n",
    "```py\n",
    "import sys\n",
    "\n",
    "# 查看当前的模块搜索路径\n",
    "print(sys.path)\n",
    "\n",
    "# 添加新的搜索路径\n",
    "sys.path.append('/path/to/your/modules')\n",
    "```"
   ]
  },
  {
   "cell_type": "markdown",
   "metadata": {},
   "source": [
    "## 2. 包\n",
    "包是一种管理 Python 模块的方式，它的本质是一个包含多个模块的文件夹。包必须包含一个特殊的 `__init__.py` 文件，用来标识这个文件夹是一个 Python 包。\n",
    "\n",
    "`__init__.py`的作用：\n",
    "\n",
    "- 标记 \"这是一个包\"，在包初始化时自动执行\n",
    "- 暴露包的公共 API\n",
    "  - 在` __init__.py` 里可以把常用的子模块或对象导入到包的顶层，方便用户直接写：`from mypkg import func1`\n",
    "  - 而不用写成：`from mypkg.module1 import func1`\n",
    "- 定义 `__all__` 控制 `from pkg import *`:\n",
    "  - 在` __init__.py`中写 `__all__ = ['func1', 'func2', 'Class3']`\n",
    "  - 这样 `from mypkg import *` 只会导入列在 `__all__` 里的名字。\n",
    "- 维护元信息:\n",
    "  - 版本号：`__version__ = '1.0.0'`\n",
    "  - 作者：`__author__  = 'Your Name'`\n",
    "  - 版权声明：`__license__ = 'MIT'`\n",
    "\n",
    "在包内的模块中，可以使用**相对导入**来引用同一包中的其他模块：\n",
    "\n",
    "- `.module` 表示当前目录\n",
    "- `..module` 表示上级目录\n",
    "- `...module` 表示上上级目录"
   ]
  },
  {
   "cell_type": "markdown",
   "metadata": {},
   "source": [
    "例：创建一个数学计算包`mathpack`\n",
    "\n",
    "> 测试代码：`mathpack`\n",
    "\n",
    "包的结构：\n",
    "\n",
    "```\n",
    "mathpack/                 # 包的根目录\n",
    "    __init__.py           # 包的初始化文件\n",
    "    basic/                # 子包1\n",
    "        __init__.py       # 子包1的初始化文件\n",
    "        operations.py     # 基本运算模块\n",
    "    geometry/             # 子包2\n",
    "        __init__.py       # 子包2的初始化文件\n",
    "        vectors.py        # 向量计算模块\n",
    "```\n",
    "\n",
    "`mathpack/__init__.py`:\n",
    "\n",
    "```py\n",
    "from .basic.operations import add, substract, multiply, divide\n",
    "from .geometry.vectors import Vector2D, Vector3D\n",
    "\n",
    "__all__ = ['add', 'substract', 'multiply', 'divide', 'Vector2D', 'Vector3D']\n",
    "```\n",
    "\n",
    "`mathpack/basic/operations.py`:\n",
    "\n",
    "```py\n",
    "def add(x, y):\n",
    "    return x + y\n",
    "\n",
    "def substract(x, y):\n",
    "    return x - y\n",
    "    \n",
    "def multiply(x, y):\n",
    "    return x * y\n",
    "\n",
    "def divide(x, y):\n",
    "    if (not y):\n",
    "        raise ValueError(\"The divisor can not be zero!\")\n",
    "    return x / y\n",
    "```\n",
    "\n",
    "`mathpack/geometry/vectors.py`\n",
    "\n",
    "```py\n",
    "from math import sqrt\n",
    "\n",
    "class Vector2D:\n",
    "    '''\n",
    "    二维向量类\n",
    "    '''\n",
    "    def __init__(self, x, y):\n",
    "        self.x = x\n",
    "        self.y = y\n",
    "    def magnitude(self):    # 计算模\n",
    "        return sqrt(self.x ** 2 + self.y ** 2)\n",
    "    def dot(self, otherV): # 计算点积\n",
    "        return (self.x * otherV.x + self.y + otherV.y)\n",
    "\n",
    "class Vector3D:\n",
    "    '''\n",
    "    三维向量类\n",
    "    '''\n",
    "    def __init__(self, x, y, z):\n",
    "        self.x = x\n",
    "        self.y = y\n",
    "        self.z = z\n",
    "    def magnitude(self):\n",
    "        return sqrt(self.x ** 2 + self.y ** 2 + self.z ** 2)\n",
    "    def dot(self, otherV):\n",
    "        return (self.x * otherV.x + self.y * otherV.y + self.z * otherV.z)\n",
    "```\n",
    "\n",
    "导入包并使用："
   ]
  },
  {
   "cell_type": "code",
   "execution_count": 3,
   "metadata": {},
   "outputs": [
    {
     "name": "stdout",
     "output_type": "stream",
     "text": [
      "add(1, 2) = 3\n",
      "substract(1, 2) = -1\n",
      "multiply(1, 2) = 2\n",
      "divide(1, 2) = 0.5\n",
      "Vector2D(-1, 1).magnitude() = 1.4142135623730951\n",
      "Vector2D(-1, 1).dot(Vector2D(1, 2)) = 2\n",
      "Vector3D(-1, 1, 1).magnitude() = 1.7320508075688772\n",
      "Vector3D(-1, 1, 1).dot(Vector3D(1, 2, 3)) = 4\n",
      "1.4142135623730951\n"
     ]
    }
   ],
   "source": [
    "from mathpack import *\n",
    "\n",
    "print(f\"add(1, 2) = {add(1, 2)}\")\n",
    "print(f\"substract(1, 2) = {substract(1, 2)}\")\n",
    "print(f\"multiply(1, 2) = {multiply(1, 2)}\")\n",
    "print(f\"divide(1, 2) = {divide(1, 2)}\")\n",
    "\n",
    "Vector2D_1 = Vector2D(-1, 1)\n",
    "Vector2D_2 = Vector2D(1, 2)\n",
    "\n",
    "print(f\"Vector2D(-1, 1).magnitude() = {Vector2D_1.magnitude()}\")\n",
    "print(f\"Vector2D(-1, 1).dot(Vector2D(1, 2)) = {Vector2D_1.dot(Vector2D_2)}\")\n",
    "\n",
    "Vector3D_1 = Vector3D(-1, 1, 1)\n",
    "Vector3D_2 = Vector3D(1, 2, 3)\n",
    "\n",
    "print(f\"Vector3D(-1, 1, 1).magnitude() = {Vector3D_1.magnitude()}\")\n",
    "print(f\"Vector3D(-1, 1, 1).dot(Vector3D(1, 2, 3)) = {Vector3D_1.dot(Vector3D_2)}\")"
   ]
  }
 ],
 "metadata": {
  "kernelspec": {
   "display_name": "d2l",
   "language": "python",
   "name": "python3"
  },
  "language_info": {
   "codemirror_mode": {
    "name": "ipython",
    "version": 3
   },
   "file_extension": ".py",
   "mimetype": "text/x-python",
   "name": "python",
   "nbconvert_exporter": "python",
   "pygments_lexer": "ipython3",
   "version": "3.9.15"
  }
 },
 "nbformat": 4,
 "nbformat_minor": 2
}
