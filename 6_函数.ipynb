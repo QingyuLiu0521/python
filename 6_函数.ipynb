{
 "cells": [
  {
   "cell_type": "markdown",
   "metadata": {},
   "source": [
    "# 六、函数\n",
    "## 1. 函数基本语法\n",
    "```py\n",
    "# 函数定义\n",
    "def functionname(parameter1, parameter2):\n",
    "    statement1\n",
    "    statement2\n",
    "    return expr1, expr2\n",
    "\n",
    "# 函数调用\n",
    "functionname(actual_para1, actual_para2)\n",
    "```\n",
    "\n",
    "- 位置参数：调用函数时根据函数定义的参数位置来传递参数"
   ]
  },
  {
   "cell_type": "code",
   "execution_count": 4,
   "metadata": {},
   "outputs": [
    {
     "name": "stdout",
     "output_type": "stream",
     "text": [
      "2\n",
      "ab\n"
     ]
    }
   ],
   "source": [
    "def func1(num1, num2, str1, str2):\n",
    "    return int(num1 / num2), str1 + str2\n",
    "\n",
    "num, str = func1(2, 1, 'a', 'b')\n",
    "print(f\"{num}\\n{str}\")"
   ]
  },
  {
   "cell_type": "markdown",
   "metadata": {},
   "source": [
    "- 关键字参数：调用函数时，可以通过“键=值”形式对参数加以指定\n",
    "  - 函数调用时如果有位置参数，位置参数必须在关键字参数的前面，但关键字参数之间不存在先后顺序。"
   ]
  },
  {
   "cell_type": "code",
   "execution_count": 6,
   "metadata": {},
   "outputs": [
    {
     "name": "stdout",
     "output_type": "stream",
     "text": [
      "2\n",
      "ab\n"
     ]
    }
   ],
   "source": [
    "def func2(num1, num2, str1, str2):\n",
    "    return int(num1 / num2), str1 + str2\n",
    "\n",
    "num, str = func2(2, str2 = 'b', num2 = 1, str1 = 'a')\n",
    "print(f\"{num}\\n{str}\")"
   ]
  },
  {
   "cell_type": "markdown",
   "metadata": {},
   "source": [
    "- 默认参数: 可以在定义函数时为参数提供默认值\n",
    "  - 所有位置参数必须出现在默认参数前，包括函数定义和调用"
   ]
  },
  {
   "cell_type": "code",
   "execution_count": 7,
   "metadata": {},
   "outputs": [
    {
     "name": "stdout",
     "output_type": "stream",
     "text": [
      "2\n",
      "ab\n"
     ]
    }
   ],
   "source": [
    "def func3(num1, num2 = 1, str1 = 'a', str2 = 'b'):\n",
    "    return int(num1 / num2), str1 + str2\n",
    "\n",
    "num, str = func3(2)\n",
    "print(f\"{num}\\n{str}\")"
   ]
  },
  {
   "cell_type": "markdown",
   "metadata": {},
   "source": [
    "## 2. 可变参数\n",
    "- 可变参数 `*args`："
   ]
  },
  {
   "cell_type": "code",
   "execution_count": 11,
   "metadata": {},
   "outputs": [
    {
     "name": "stdout",
     "output_type": "stream",
     "text": [
      "15\n"
     ]
    }
   ],
   "source": [
    "def func4(*args):\n",
    "    return sum(args)\n",
    "print(func4(1, 2, 3, 4, 5))"
   ]
  },
  {
   "cell_type": "markdown",
   "metadata": {},
   "source": [
    "- 关键字可变参数 `**kwagrs`："
   ]
  },
  {
   "cell_type": "code",
   "execution_count": 12,
   "metadata": {},
   "outputs": [
    {
     "name": "stdout",
     "output_type": "stream",
     "text": [
      "name: Tom\n",
      "gender: Male\n",
      "age: 22\n"
     ]
    }
   ],
   "source": [
    "def func5(**kwargs):\n",
    "    for key, value in kwargs.items():\n",
    "        print(f'{key}: {value}')\n",
    "\n",
    "func5(name = \"Tom\", gender = \"Male\", age = \"22\")"
   ]
  },
  {
   "cell_type": "markdown",
   "metadata": {},
   "source": [
    "## 3. 嵌套函数\n",
    "嵌套函数：在一个函数内部定义的另一个函数。\n",
    "- 常用于封装特定的逻辑，保护内部函数不受外部作用域影响"
   ]
  },
  {
   "cell_type": "code",
   "execution_count": 6,
   "metadata": {},
   "outputs": [
    {
     "name": "stdout",
     "output_type": "stream",
     "text": [
      "0.5 + 1 / 0.5 > 1.5 + 1 / 1.5\n"
     ]
    }
   ],
   "source": [
    "def compare(x, y):\n",
    "    def calculate(n):\n",
    "        return n + 1 / n\n",
    "    \n",
    "    if calculate(x) > calculate(y):\n",
    "        return f\"{x} + 1 / {x} > {y} + 1 / {y}\"\n",
    "    elif calculate(x) < calculate(y):\n",
    "        return f\"{x} + 1 / {x} < {y} + 1 / {y}\"\n",
    "    return f\"{x} + 1 / {x} == {y} + 1 / {y}\"\n",
    "\n",
    "print(compare(0.5, 1.5))"
   ]
  }
 ],
 "metadata": {
  "kernelspec": {
   "display_name": "d2l",
   "language": "python",
   "name": "python3"
  },
  "language_info": {
   "codemirror_mode": {
    "name": "ipython",
    "version": 3
   },
   "file_extension": ".py",
   "mimetype": "text/x-python",
   "name": "python",
   "nbconvert_exporter": "python",
   "pygments_lexer": "ipython3",
   "version": "3.9.15"
  }
 },
 "nbformat": 4,
 "nbformat_minor": 2
}
