{
 "cells": [
  {
   "cell_type": "markdown",
   "metadata": {},
   "source": [
    "# 四、列表和元组\n",
    "## 1. 列表\n",
    "列表：一次性可以存储多个数据\n",
    "- 能进行的操作：索引、切片、增、删、改、查..."
   ]
  },
  {
   "cell_type": "code",
   "execution_count": 15,
   "metadata": {},
   "outputs": [
    {
     "name": "stdout",
     "output_type": "stream",
     "text": [
      "['a', 'b', 'c', 'd', 'e']\n",
      "list1[0]: a\n",
      "list1[1]: b\n",
      "list1[2]: c\n",
      "list1[3]: d\n",
      "list1[4]: e\n",
      "list1[1:4]: ['b', 'z', 'd']\n"
     ]
    }
   ],
   "source": [
    "list1 = ['a', 'b', 'c', 'd', 'e']\n",
    "print(list1)\n",
    "for i, element in enumerate(list1):\n",
    "    print(f'list1[{i}]: {element}')\n",
    "\n",
    "list1[2] = 'z' # 通过指定索引直接修改元素\n",
    "\n",
    "print(f'list1[1:4]: {list1[1:4]}')"
   ]
  },
  {
   "cell_type": "markdown",
   "metadata": {},
   "source": [
    "### 1.2 增\n",
    "- `append()`：在列表末尾添加**单个元素**"
   ]
  },
  {
   "cell_type": "code",
   "execution_count": 5,
   "metadata": {},
   "outputs": [
    {
     "name": "stdout",
     "output_type": "stream",
     "text": [
      "['a', 'b', 'c', 'd']\n"
     ]
    }
   ],
   "source": [
    "list2 = ['a', 'b', 'c']\n",
    "mychar = 'd'\n",
    "list2.append(mychar)\n",
    "print(list2)"
   ]
  },
  {
   "cell_type": "markdown",
   "metadata": {},
   "source": [
    "- `extend()`: 在列表末尾**一次性追加另一个序列中的多个值**"
   ]
  },
  {
   "cell_type": "code",
   "execution_count": 7,
   "metadata": {},
   "outputs": [
    {
     "name": "stdout",
     "output_type": "stream",
     "text": [
      "['a', 'b', 'c', 'd', 'e', 'f']\n"
     ]
    }
   ],
   "source": [
    "list3 = ['a', 'b', 'c']\n",
    "list4 = ['d', 'e', 'f']\n",
    "list3.extend(list4)\n",
    "print(list3)"
   ]
  },
  {
   "cell_type": "markdown",
   "metadata": {},
   "source": [
    "- `insert()`: 在指定位置插入元素"
   ]
  },
  {
   "cell_type": "code",
   "execution_count": 8,
   "metadata": {},
   "outputs": [
    {
     "name": "stdout",
     "output_type": "stream",
     "text": [
      "['a', 'b', 'c', 'd']\n"
     ]
    }
   ],
   "source": [
    "list5 = ['a', 'c', 'd']\n",
    "list5.insert(1, 'b')\n",
    "print(list5)"
   ]
  },
  {
   "cell_type": "markdown",
   "metadata": {},
   "source": [
    "### 1.3 删\n",
    "- `remove()`: 删除指定元素"
   ]
  },
  {
   "cell_type": "code",
   "execution_count": 9,
   "metadata": {},
   "outputs": [
    {
     "name": "stdout",
     "output_type": "stream",
     "text": [
      "['a', 'c']\n"
     ]
    }
   ],
   "source": [
    "list6 = ['a', 'b', 'c']\n",
    "list6.remove('b')\n",
    "print(list6)"
   ]
  },
  {
   "cell_type": "markdown",
   "metadata": {},
   "source": [
    "- `pop()`: 删除并返回指定位置的元素"
   ]
  },
  {
   "cell_type": "code",
   "execution_count": 10,
   "metadata": {},
   "outputs": [
    {
     "name": "stdout",
     "output_type": "stream",
     "text": [
      "b\n",
      "['a', 'c']\n"
     ]
    }
   ],
   "source": [
    "list6 = ['a', 'b', 'c']\n",
    "element_removed = list6.pop(1)\n",
    "print(element_removed)\n",
    "print(list6)"
   ]
  },
  {
   "cell_type": "markdown",
   "metadata": {},
   "source": [
    "- `del`: 删除指定位置的元素"
   ]
  },
  {
   "cell_type": "code",
   "execution_count": 11,
   "metadata": {},
   "outputs": [
    {
     "name": "stdout",
     "output_type": "stream",
     "text": [
      "['a', 'c']\n"
     ]
    }
   ],
   "source": [
    "list7 = ['a', 'b', 'c']\n",
    "del list7[1]\n",
    "print(list7)"
   ]
  },
  {
   "cell_type": "markdown",
   "metadata": {},
   "source": [
    "- `clear()`: 清空列表\n"
   ]
  },
  {
   "cell_type": "code",
   "execution_count": 13,
   "metadata": {},
   "outputs": [
    {
     "name": "stdout",
     "output_type": "stream",
     "text": [
      "[]\n"
     ]
    }
   ],
   "source": [
    "list8 = ['a', 'b', 'c']\n",
    "list8.clear()\n",
    "print(list8)"
   ]
  },
  {
   "cell_type": "markdown",
   "metadata": {},
   "source": [
    "### 1.4 查\n",
    "- `len()`: 获取列表长度"
   ]
  },
  {
   "cell_type": "code",
   "execution_count": 16,
   "metadata": {},
   "outputs": [
    {
     "name": "stdout",
     "output_type": "stream",
     "text": [
      "3\n"
     ]
    }
   ],
   "source": [
    "list9 = ['a', 'b', 'c']\n",
    "print(len(list9))"
   ]
  },
  {
   "cell_type": "markdown",
   "metadata": {},
   "source": [
    "- `count()`: 统计元素出现次数"
   ]
  },
  {
   "cell_type": "code",
   "execution_count": 17,
   "metadata": {},
   "outputs": [
    {
     "name": "stdout",
     "output_type": "stream",
     "text": [
      "2\n"
     ]
    }
   ],
   "source": [
    "list10 = ['a', 'b', 'b', 'c']\n",
    "print(list10.count('b'))"
   ]
  },
  {
   "cell_type": "markdown",
   "metadata": {},
   "source": [
    "- `index()`: 查找元素索引"
   ]
  },
  {
   "cell_type": "code",
   "execution_count": 18,
   "metadata": {},
   "outputs": [
    {
     "name": "stdout",
     "output_type": "stream",
     "text": [
      "1\n"
     ]
    }
   ],
   "source": [
    "list11 = ['a', 'b', 'c']\n",
    "print(list11.index('b'))"
   ]
  },
  {
   "cell_type": "markdown",
   "metadata": {},
   "source": [
    "- `in`运算符: 判断元素是否存在"
   ]
  },
  {
   "cell_type": "code",
   "execution_count": 19,
   "metadata": {},
   "outputs": [
    {
     "name": "stdout",
     "output_type": "stream",
     "text": [
      "True\n",
      "False\n"
     ]
    }
   ],
   "source": [
    "list12 = ['a', 'b', 'c']\n",
    "print('b' in list12)\n",
    "print('e' in list12)"
   ]
  },
  {
   "cell_type": "markdown",
   "metadata": {},
   "source": [
    "### 1.5 其他常用操作\n",
    "- `sort()`: 排序\n",
    "  - 默认是升序排序，降序排序需要设置参数`myList.sort(reverse=True)`"
   ]
  },
  {
   "cell_type": "code",
   "execution_count": 20,
   "metadata": {},
   "outputs": [
    {
     "name": "stdout",
     "output_type": "stream",
     "text": [
      "[1, 1, 3, 4, 5, 9]\n",
      "[9, 5, 4, 3, 1, 1]\n"
     ]
    }
   ],
   "source": [
    "numbers = [3, 1, 4, 1, 5, 9]\n",
    "numbers.sort()  # 升序排序\n",
    "print(numbers)  # [1, 1, 3, 4, 5, 9]\n",
    "\n",
    "numbers.sort(reverse=True)  # 降序排序\n",
    "print(numbers)  # [9, 5, 4, 3, 1, 1]"
   ]
  },
  {
   "cell_type": "markdown",
   "metadata": {},
   "source": [
    "- `reverse()`: 反转列表"
   ]
  },
  {
   "cell_type": "code",
   "execution_count": 21,
   "metadata": {},
   "outputs": [
    {
     "name": "stdout",
     "output_type": "stream",
     "text": [
      "['c', 'b', 'a']\n"
     ]
    }
   ],
   "source": [
    "list13 = ['a', 'b', 'c']\n",
    "list13.reverse()\n",
    "print(list13)"
   ]
  },
  {
   "cell_type": "code",
   "execution_count": 22,
   "metadata": {},
   "outputs": [
    {
     "name": "stdout",
     "output_type": "stream",
     "text": [
      "['a', 'b', 'c']\n",
      "['a', 'b', 'c']\n"
     ]
    }
   ],
   "source": [
    "list14 = ['a', 'b', 'c']\n",
    "list14_copy = list14.copy()\n",
    "print(list14)       # ['a', 'b', 'c']\n",
    "print(list14_copy)  # ['a', 'b', 'c']"
   ]
  },
  {
   "cell_type": "markdown",
   "metadata": {},
   "source": [
    "### 1.6 列表推导式\n",
    "列表推导式：一种简洁创建列表的方法\n",
    "\n",
    "- 基本语法：`[表达式 for 变量 in 可迭代对象 if 条件]`\n",
    "\n",
    "例1：生成平方数"
   ]
  },
  {
   "cell_type": "code",
   "execution_count": 25,
   "metadata": {},
   "outputs": [
    {
     "name": "stdout",
     "output_type": "stream",
     "text": [
      "[1, 4, 9, 16, 25, 36, 49, 64, 81, 100]\n",
      "[36, 64, 100]\n"
     ]
    }
   ],
   "source": [
    "# 生成平方数\n",
    "squares = [x**2 for x in range(1, 11)]\n",
    "print(squares)\n",
    "\n",
    "# 生成平方数（加上额外条件: 只处理列表中的偶数且大于等于6的数）\n",
    "squares2 = [x**2 for x in range(1, 11) if x % 2 == 0 and x >= 6]\n",
    "print(squares2)"
   ]
  },
  {
   "cell_type": "markdown",
   "metadata": {},
   "source": [
    "例2：处理字符串"
   ]
  },
  {
   "cell_type": "code",
   "execution_count": 26,
   "metadata": {},
   "outputs": [
    {
     "name": "stdout",
     "output_type": "stream",
     "text": [
      "['HELLO', 'WORLD']\n"
     ]
    }
   ],
   "source": [
    "text = \"Hello world\"\n",
    "myList = [x.upper() for x in text.split()]\n",
    "print(myList)"
   ]
  },
  {
   "cell_type": "markdown",
   "metadata": {},
   "source": [
    "## 2. 元组\n",
    "元组：**不能修改**的列表，定义时使用小括号`()`\n",
    "\n",
    "```py\n",
    "tuple1 = ('a', 'b', 'c')\n",
    "```\n",
    "\n",
    "相比列表，元组只支持**查询**操作：`index()`、`count()`、`len()`等；适用于需确保数据不被修改的场景"
   ]
  }
 ],
 "metadata": {
  "kernelspec": {
   "display_name": "d2l",
   "language": "python",
   "name": "python3"
  },
  "language_info": {
   "codemirror_mode": {
    "name": "ipython",
    "version": 3
   },
   "file_extension": ".py",
   "mimetype": "text/x-python",
   "name": "python",
   "nbconvert_exporter": "python",
   "pygments_lexer": "ipython3",
   "version": "3.9.15"
  }
 },
 "nbformat": 4,
 "nbformat_minor": 2
}
