{
 "cells": [
  {
   "cell_type": "markdown",
   "metadata": {},
   "source": [
    "# 一、数据类型简介 和 运算符\n",
    "## 1. 常用数据类型\n",
    "\n",
    "|类型|常用数据类型|初始化|\n",
    "|-|-|-|\n",
    "|str|字符串|s = \"hello\" 或 s = str()|\n",
    "|int|整数|x = 42 或 x = int()|\n",
    "|float|浮点数|f = 3.14 或 f = float()|\n",
    "|bool|布尔值|b = True 或 b = False|\n",
    "|list|列表|lst = [] 或 lst = list() 或 lst = [1, 2, 3]|\n",
    "|tuple|元组|t = () 或 t = tuple() 或 t = (1, 2, 3)|\n",
    "|dict|字典|d = {} 或 d = dict() 或 d = {'a': 1}|\n",
    "|set|集合|s = set() 或 s = {1, 2, 3}|\n",
    "\n",
    "> 注：在C++里，bool型的关键字为 `true` 和 `false`\n",
    "\n",
    "## 2. 算术运算符\n",
    "\n",
    "| 运算符 | 含义 |\n",
    "|-|-|\n",
    "| +    | 加     |\n",
    "| -    | 减     |\n",
    "| *    | 乘     |\n",
    "| /    | 除     |\n",
    "| //   | 整除   |\n",
    "| %    | 取余   |\n",
    "| **   | 指数   |\n",
    "\n",
    "## 3. 赋值运算符\n",
    "\n",
    "| 运算符 | 含义 |\n",
    "|-|-|\n",
    "| =      | 赋值 |\n",
    "\n",
    "## 4. 复合赋值运算符\n",
    "\n",
    "| 运算符 | 含义           |\n",
    "|-|-|\n",
    "| +=     | 加法赋值运算符 |\n",
    "| -=     | 减法赋值运算符 |\n",
    "| *=     | 乘法赋值运算符 |\n",
    "| /=     | 除法赋值运算符 |\n",
    "| //=    | 整除赋值运算符 |\n",
    "| %=     | 取余赋值运算符 |\n",
    "| **=    | 幂赋值运算符   |\n"
   ]
  },
  {
   "cell_type": "code",
   "execution_count": 1,
   "metadata": {},
   "outputs": [
    {
     "name": "stdout",
     "output_type": "stream",
     "text": [
      "a: 11\n"
     ]
    }
   ],
   "source": [
    "a = 10\n",
    "a += 1\n",
    "print(f'a: {a}')"
   ]
  },
  {
   "cell_type": "code",
   "execution_count": 3,
   "metadata": {},
   "outputs": [
    {
     "name": "stdout",
     "output_type": "stream",
     "text": [
      "b: 10\n"
     ]
    }
   ],
   "source": [
    "b = 2\n",
    "b *= 5\n",
    "print(f'b: {b}')"
   ]
  },
  {
   "cell_type": "code",
   "execution_count": 6,
   "metadata": {},
   "outputs": [
    {
     "name": "stdout",
     "output_type": "stream",
     "text": [
      "c: 2\n"
     ]
    }
   ],
   "source": [
    "c = 10\n",
    "c //= 4\n",
    "print(f'c: {c}')"
   ]
  },
  {
   "cell_type": "markdown",
   "metadata": {},
   "source": [
    "## 5. 比较运算符\n",
    "|运算符|描述|\n",
    "|-|-|\n",
    "|==|判断相等|\n",
    "|!=|判断不等|\n",
    "|> |判断大于|\n",
    "|< |判断小于|\n",
    "|>=|判断大于等于|\n",
    "|<=|判断小于等于|"
   ]
  },
  {
   "cell_type": "code",
   "execution_count": 2,
   "metadata": {},
   "outputs": [
    {
     "name": "stdout",
     "output_type": "stream",
     "text": [
      "1 == 2: False\n",
      "1 != 2: True\n",
      "1 > 2: False\n",
      "1 < 2: True\n",
      "1 >= 2: False\n",
      "1 <= 2: True\n"
     ]
    }
   ],
   "source": [
    "a = 1\n",
    "b = 2\n",
    "\n",
    "print(f'{a} == {b}: {a == b}')\n",
    "print(f'{a} != {b}: {a != b}')\n",
    "print(f'{a} > {b}: {a > b}')\n",
    "print(f'{a} < {b}: {a < b}')\n",
    "print(f'{a} >= {b}: {a >= b}')\n",
    "print(f'{a} <= {b}: {a <= b}')"
   ]
  },
  {
   "cell_type": "markdown",
   "metadata": {},
   "source": [
    "## 6. 逻辑运算符\n",
    "|运算符|逻辑表达式|含义|\n",
    "|-|-|-|\n",
    "|and|x and y|布尔\"与\"|\n",
    "|or|x or y|布尔\"或\"|\n",
    "|not|not x|布尔\"非\"|"
   ]
  },
  {
   "cell_type": "code",
   "execution_count": 3,
   "metadata": {},
   "outputs": [
    {
     "name": "stdout",
     "output_type": "stream",
     "text": [
      "True and False: False\n",
      "True or False: True\n",
      "not True: False\n",
      "not False: True\n"
     ]
    }
   ],
   "source": [
    "x = True\n",
    "y = False\n",
    "\n",
    "print(f'{x} and {y}: {x and y}')\n",
    "print(f'{x} or {y}: {x or y}')\n",
    "print(f'not {x}: {not x}')\n",
    "print(f'not {y}: {not y}')"
   ]
  }
 ],
 "metadata": {
  "kernelspec": {
   "display_name": "d2l",
   "language": "python",
   "name": "python3"
  },
  "language_info": {
   "codemirror_mode": {
    "name": "ipython",
    "version": 3
   },
   "file_extension": ".py",
   "mimetype": "text/x-python",
   "name": "python",
   "nbconvert_exporter": "python",
   "pygments_lexer": "ipython3",
   "version": "0.0.0"
  }
 },
 "nbformat": 4,
 "nbformat_minor": 2
}
