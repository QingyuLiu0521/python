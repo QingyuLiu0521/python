{
 "cells": [
  {
   "cell_type": "markdown",
   "metadata": {},
   "source": [
    "# 三、字符串\n",
    "## 1. 字符串基础\n",
    "创建方式：用引号包裹（单引号 和 双引号都可）"
   ]
  },
  {
   "cell_type": "code",
   "execution_count": 3,
   "metadata": {},
   "outputs": [
    {
     "name": "stdout",
     "output_type": "stream",
     "text": [
      "Type of text1: str\n",
      "Type of text2: str\n"
     ]
    }
   ],
   "source": [
    "text1 = 'hello world.'\n",
    "text2 = \"Hello world!\"\n",
    "print(f'Type of text1: {type(text1).__name__}')\n",
    "print(f'Type of text2: {type(text2).__name__}')"
   ]
  },
  {
   "cell_type": "markdown",
   "metadata": {},
   "source": [
    "- 如果用单引号包裹字符串`'...'`，而字符串中含有单引号`'`那么单引号需要使用反斜杠转义；\n",
    "- 同理，如果用双引号包裹字符串`\"...\"`，而字符串中含有双引号`\"`那么双引号需要使用反斜杠转义；"
   ]
  },
  {
   "cell_type": "code",
   "execution_count": 5,
   "metadata": {},
   "outputs": [
    {
     "name": "stdout",
     "output_type": "stream",
     "text": [
      "I'm Super momo.\n",
      "He said \"Hello\" to me.\n"
     ]
    }
   ],
   "source": [
    "text3 = 'I\\'m Super momo.'\n",
    "text4 = \"He said \\\"Hello\\\" to me.\"\n",
    "print(text3)\n",
    "print(text4)"
   ]
  },
  {
   "cell_type": "markdown",
   "metadata": {},
   "source": [
    "其他常用转义字符：\n",
    "|转义字符|含义|\n",
    "|-|-|\n",
    "|\\n|换行|\n",
    "|\\t|制表符|\n",
    "|\\b|退格|\n",
    "|\\r|回车|"
   ]
  },
  {
   "cell_type": "code",
   "execution_count": 13,
   "metadata": {},
   "outputs": [
    {
     "name": "stdout",
     "output_type": "stream",
     "text": [
      "---Example of \\n---\n",
      "ABCDE\n",
      "X\n",
      "---Example of \\t---\n",
      "ABCDE\tX\n",
      "---Example of \\b---\n",
      "ABCDX\n",
      "---Example of \\r---\n",
      "XBCDE\n"
     ]
    }
   ],
   "source": [
    "print(\"---Example of \\\\n---\")\n",
    "print(\"ABCDE\\nX\")\n",
    "print(\"---Example of \\\\t---\")\n",
    "print(\"ABCDE\\tX\")\n",
    "print(\"---Example of \\\\b---\")\n",
    "print(\"ABCDE\\bX\") \n",
    "print(\"---Example of \\\\r---\")\n",
    "print(\"ABCDE\\rX\") "
   ]
  },
  {
   "cell_type": "markdown",
   "metadata": {},
   "source": [
    "## 2. 切片\n",
    "切片：将操作对象**截取其中一部分**\n",
    "> 字符串、列表、元组都支持切片\n",
    "\n",
    "语法：\n",
    "```py\n",
    "序列[开始位置下标:结束位置下标:步长]\n",
    "```\n",
    "\n",
    "- 不包含结束位置下标对应的数据，正负均可\n",
    "  - 正数下标：从左向右数，从 0 开始\n",
    "  - 负数下标：从右向左数，**−1 表示最后一位**，−2 表示倒数第二位...\n",
    "- 步长是选取间隔，正负整数均可，默认为1"
   ]
  },
  {
   "cell_type": "code",
   "execution_count": 25,
   "metadata": {},
   "outputs": [
    {
     "name": "stdout",
     "output_type": "stream",
     "text": [
      "a\n",
      "cde\n",
      "ce\n",
      "abcde\n",
      "cdef\n",
      "abcdef\n",
      "bcd\n"
     ]
    }
   ],
   "source": [
    "text5 = \"abcdef\"\n",
    "\n",
    "print(text5[0])\n",
    "print(text5[2:5])\n",
    "print(text5[2:5:2])\n",
    "print(text5[:5])\n",
    "print(text5[2:])\n",
    "print(text5[:])\n",
    "print(text5[-5:-2])"
   ]
  },
  {
   "cell_type": "markdown",
   "metadata": {},
   "source": [
    "## 3. 字符串常用方法\n",
    "- `replace()`：替换字符串中的指定内容"
   ]
  },
  {
   "cell_type": "code",
   "execution_count": 5,
   "metadata": {},
   "outputs": [
    {
     "name": "stdout",
     "output_type": "stream",
     "text": [
      "Hello my friend!\n"
     ]
    }
   ],
   "source": [
    "text6 = \"Hello world!\"\n",
    "print(text6.replace(\"world\", \"my friend\"))"
   ]
  },
  {
   "cell_type": "markdown",
   "metadata": {},
   "source": [
    "- `split()`：按指定分隔符分割字符串(英语句子分割成单词的常用操作)\n",
    "  - 若不传入参数，会自动把 **任意长度的空白字符（空格、制表符、换行等）** 当作分隔符\n",
    "- `join()`：将序列中的元素以指定的字符连接生成一个新的字符串"
   ]
  },
  {
   "cell_type": "code",
   "execution_count": 28,
   "metadata": {},
   "outputs": [
    {
     "name": "stdout",
     "output_type": "stream",
     "text": [
      "text7: Hello world!\n",
      "text7.split()'s type is list\n",
      "text7.split()[0]: Hello\n",
      "text7.split()[1]: world!\n",
      "\"_\".join(text7.split()): \"Hello_world!\"\n"
     ]
    }
   ],
   "source": [
    "text7 = \"Hello world!\"\n",
    "print(f\"text7: {text7}\")\n",
    "myList = text7.split()\n",
    "print(f'text7.split()\\'s type is {type(myList).__name__}')\n",
    "for i, word in enumerate(myList):\n",
    "    print(f'text7.split()[{i}]: {word}')\n",
    "text8 = \"_\".join(myList)\n",
    "print(f\"\\\"_\\\".join(text7.split()): \\\"{text8}\\\"\")"
   ]
  },
  {
   "cell_type": "markdown",
   "metadata": {},
   "source": [
    "- `lower()`：将字符串中大写转小写"
   ]
  },
  {
   "cell_type": "code",
   "execution_count": 24,
   "metadata": {},
   "outputs": [
    {
     "name": "stdout",
     "output_type": "stream",
     "text": [
      "hello, world!\n"
     ]
    }
   ],
   "source": [
    "text9 = \"Hello, World!\"\n",
    "print(text9.lower())"
   ]
  },
  {
   "cell_type": "markdown",
   "metadata": {},
   "source": [
    "- `upper()`：将字符串中小写转大写"
   ]
  },
  {
   "cell_type": "code",
   "execution_count": 25,
   "metadata": {},
   "outputs": [
    {
     "name": "stdout",
     "output_type": "stream",
     "text": [
      "HELLO, WORLD!\n"
     ]
    }
   ],
   "source": [
    "text10 = \"Hello, World!\"\n",
    "print(text10.upper())"
   ]
  },
  {
   "cell_type": "markdown",
   "metadata": {},
   "source": [
    "- `strip()`：去除字符串首尾的空格或指定字符"
   ]
  },
  {
   "cell_type": "code",
   "execution_count": 26,
   "metadata": {},
   "outputs": [
    {
     "name": "stdout",
     "output_type": "stream",
     "text": [
      "Hello, world!\n"
     ]
    }
   ],
   "source": [
    "text11 = \"\\tHello, world!       \"\n",
    "print(text11.strip())"
   ]
  },
  {
   "cell_type": "markdown",
   "metadata": {},
   "source": [
    "## 4. 字符串常用判断\n",
    "- `isalpha()`：如果字符串至少有一个字符并且所有字符都是字母则返回 True, 否则返回 False"
   ]
  },
  {
   "cell_type": "code",
   "execution_count": 31,
   "metadata": {},
   "outputs": [
    {
     "name": "stdout",
     "output_type": "stream",
     "text": [
      "\"hello\".isalpha(): True\n",
      "\"hello!\".isalpha(): False\n"
     ]
    }
   ],
   "source": [
    "print(f'\"hello\".isalpha(): {\"hello\".isalpha()}')\n",
    "print(f'\"hello!\".isalpha(): {\"hello!\".isalpha()}')"
   ]
  },
  {
   "cell_type": "markdown",
   "metadata": {},
   "source": [
    "- `isdigit()`：如果字符串只包含数字则返回 True 否则返回 False"
   ]
  },
  {
   "cell_type": "code",
   "execution_count": 33,
   "metadata": {},
   "outputs": [
    {
     "name": "stdout",
     "output_type": "stream",
     "text": [
      "\"123\".isdigit(): True\n",
      "\"123a\".isdigit(): False\n"
     ]
    }
   ],
   "source": [
    "print(f'\"123\".isdigit(): {\"123\".isdigit()}')\n",
    "print(f'\"123a\".isdigit(): {\"123a\".isdigit()}')"
   ]
  },
  {
   "cell_type": "markdown",
   "metadata": {},
   "source": [
    "- `isalnum()`：如果字符串至少有一个字符并且所有字符都是字母或数字则返 回 True,否则返回 False"
   ]
  },
  {
   "cell_type": "code",
   "execution_count": 38,
   "metadata": {},
   "outputs": [
    {
     "name": "stdout",
     "output_type": "stream",
     "text": [
      "\"123a\".isalnum(): True\n",
      "\"123!\".isalnum(): False\n"
     ]
    }
   ],
   "source": [
    "print(f'\"123a\".isalnum(): {\"123a\".isalnum()}')\n",
    "print(f'\"123!\".isalnum(): {\"123!\".isalnum()}')"
   ]
  },
  {
   "cell_type": "markdown",
   "metadata": {},
   "source": [
    "- `isspace()`：如果字符串中只包含空白，则返回 True，否则返回 False"
   ]
  },
  {
   "cell_type": "code",
   "execution_count": 44,
   "metadata": {},
   "outputs": [
    {
     "name": "stdout",
     "output_type": "stream",
     "text": [
      "\"\\t \\n\".isspace(): True\n",
      "\"a\\t\\n\".isspace(): False\n"
     ]
    }
   ],
   "source": [
    "print('\"\\\\t \\\\n\".isspace():', \"\\t \\n\".isspace())\n",
    "print('\"a\\\\t\\\\n\".isspace():', \"a\\t\\n\".isspace())"
   ]
  }
 ],
 "metadata": {
  "kernelspec": {
   "display_name": "d2l",
   "language": "python",
   "name": "python3"
  },
  "language_info": {
   "codemirror_mode": {
    "name": "ipython",
    "version": 3
   },
   "file_extension": ".py",
   "mimetype": "text/x-python",
   "name": "python",
   "nbconvert_exporter": "python",
   "pygments_lexer": "ipython3",
   "version": "3.9.15"
  }
 },
 "nbformat": 4,
 "nbformat_minor": 2
}
