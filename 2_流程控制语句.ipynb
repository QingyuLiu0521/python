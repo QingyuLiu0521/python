{
 "cells": [
  {
   "cell_type": "markdown",
   "metadata": {},
   "source": [
    "# 二、流程控制语句\n",
    "## 1. 条件语句\n",
    "条件语句`if - elif - else`语法:\n",
    "```py\n",
    "if condition1:\n",
    "    statement1 # 当 condition1 == True 时执行\n",
    "elif condition2:\n",
    "    statement2 # 当前面都不满足，且condition2 == True 时执行\n",
    "elif condition3:\n",
    "    statement3 # 当前面都不满足，且condition3 == True 时执行\n",
    "...\n",
    "else:\n",
    "    statementn # 上面所有条件都不满足时执行\n",
    "```\n",
    "\n",
    "> 注：C++没有关键字`elif`，而是使用`else if`"
   ]
  },
  {
   "cell_type": "code",
   "execution_count": 4,
   "metadata": {},
   "outputs": [
    {
     "name": "stdout",
     "output_type": "stream",
     "text": [
      "A's score: 59\n",
      "Student A failed the exam.\n"
     ]
    }
   ],
   "source": [
    "score = int(input(\"Please input the score of student A:\"))\n",
    "print(f'A\\'s score: {score}')\n",
    "if score > 90:\n",
    "    grade = 'A'\n",
    "elif score > 80:\n",
    "    grade = 'B'\n",
    "elif score > 70:\n",
    "    grade = 'C'\n",
    "elif score > 60:\n",
    "    grade = 'D'\n",
    "else:\n",
    "    grade = 'E'\n",
    "\n",
    "if grade == 'E':\n",
    "    print(\"Student A failed the exam.\")\n",
    "else:\n",
    "    print(f'A\\'s grade: {grade}')"
   ]
  },
  {
   "cell_type": "markdown",
   "metadata": {},
   "source": [
    "## 2. 三目运算符（条件运算符）\n",
    "三目运算符相当于简化版的 if ... else ...\n",
    "\n",
    "语法：\n",
    "```py\n",
    "expr1 if cond else expr2\n",
    "```\n",
    "\n",
    "> 注：C++中的三目运算符为`cond ? expr1 : expr2`"
   ]
  },
  {
   "cell_type": "code",
   "execution_count": 10,
   "metadata": {},
   "outputs": [
    {
     "name": "stdout",
     "output_type": "stream",
     "text": [
      "A's score: 59\n",
      "fail\n"
     ]
    }
   ],
   "source": [
    "score = int(input(\"Please input the score of student A:\"))\n",
    "print(f'A\\'s score: {score}')\n",
    "print(\"pass\" if score > 60 else \"fail\")"
   ]
  },
  {
   "cell_type": "markdown",
   "metadata": {},
   "source": [
    "# 3. 循环语句while\n",
    "循环语句`while`语法:\n",
    "```py\n",
    "while cond:\n",
    "    statement1\n",
    "    statement2\n",
    "```"
   ]
  },
  {
   "cell_type": "code",
   "execution_count": 12,
   "metadata": {},
   "outputs": [
    {
     "name": "stdout",
     "output_type": "stream",
     "text": [
      "loop: 1\n",
      "loop: 2\n",
      "loop: 3\n"
     ]
    }
   ],
   "source": [
    "count = 1\n",
    "while count <= 3:\n",
    "    print(f'loop: {count}')\n",
    "    count += 1"
   ]
  },
  {
   "cell_type": "markdown",
   "metadata": {},
   "source": [
    "# 4. 循环语句for\n",
    "循环语句`for`语法:\n",
    "```py\n",
    "for variable in iterable:\n",
    "    statement1\n",
    "    statement2\n",
    "    ...\n",
    "```"
   ]
  },
  {
   "cell_type": "markdown",
   "metadata": {},
   "source": [
    "- `enumerate(iterable, start=0)`: Python 内置类，用来遍历可迭代对象（如列表、元组、字符串等）并跟踪下标；每次迭代`enumerate(iterable)`会产生一个 `(index, element)` 元组。"
   ]
  },
  {
   "cell_type": "code",
   "execution_count": 16,
   "metadata": {},
   "outputs": [
    {
     "name": "stdout",
     "output_type": "stream",
     "text": [
      "variable \"words\" is a list\n",
      "words: ['variable', '\"words\"', 'is', 'a', 'list']\n",
      "word 0: variable\n",
      "word 1: \"words\"\n",
      "word 2: is\n",
      "word 3: a\n",
      "word 4: list\n"
     ]
    }
   ],
   "source": [
    "sentence = input(\"Please input a sentence:\")\n",
    "words = sentence.split()\n",
    "print(f\"variable \\\"words\\\" is a {type(words).__name__}\"\n",
    "      f\"\\nwords: {words}\")\n",
    "for index, word in enumerate(words):\n",
    "    print(f'word {index}: {word}')"
   ]
  },
  {
   "cell_type": "markdown",
   "metadata": {},
   "source": [
    "- `range(start, stop[, step])`: Python内置类,用于创建一个表示整数序列的不可变range对象,常见于循环迭代\n",
    "  - 参数：\n",
    "    - start：起始值（包含），默认为0\n",
    "    - stop：结束值（不包含）\n",
    "    - step：步长，默认为1，可以为负数表示递减\n",
    "  - `range(5)`: 生成 0, 1, 2, 3, 4\n",
    "  - `range(0, 10, 2)`: 生成 0, 2, 4, 6, 8\n",
    "- `zip(*iterables)`: Python内置类，用于将多个可迭代对象 (`*iterables`, 如列表、元组等) 打包；每次迭代都会产生一个包含对应位置元素的元组。"
   ]
  },
  {
   "cell_type": "code",
   "execution_count": 22,
   "metadata": {},
   "outputs": [
    {
     "name": "stdout",
     "output_type": "stream",
     "text": [
      "Word[0] in \"Hello world!\" is 'Hello'.\n",
      "Word[2] in \"This is a sentence.\" is 'a'.\n"
     ]
    }
   ],
   "source": [
    "from typing import List # 用来标注元素类型已知的list\n",
    "def find_word(texts: List[str], indexes: List[int]):\n",
    "    results = []\n",
    "    for text, index in zip(texts, indexes):\n",
    "        words = text.split()\n",
    "        results.append(words[index])\n",
    "    return results\n",
    "\n",
    "texts = [\n",
    "    \"Hello world!\",\n",
    "    \"This is a sentence.\"\n",
    "]\n",
    "indexes = [0, 2]\n",
    "results = find_word(texts, indexes)\n",
    "for i in range(len(results)):\n",
    "    print(f\"Word[{indexes[i]}] in \\\"{texts[i]}\\\" is \\'{results[i]}\\'.\")"
   ]
  },
  {
   "cell_type": "markdown",
   "metadata": {},
   "source": [
    "- `sorted(iterable, key=None, reverse=False)`: Python内置函数，将可迭代对象排序并返回一个新的列表\n",
    "  - 参数：\n",
    "    - iterable：要排序的可迭代对象\n",
    "    - key：排序依据的函数，接收一个元素返回其对应的比较值，默认为None\n",
    "    - reverse：是否降序，默认为False表示升序\n",
    "  - `sorted([3,1,2])`: 返回 [1,2,3]"
   ]
  },
  {
   "cell_type": "code",
   "execution_count": 32,
   "metadata": {},
   "outputs": [
    {
     "name": "stdout",
     "output_type": "stream",
     "text": [
      "Sorting:\n",
      "wav[0] is EN_B00000_S00000_W000000\n",
      "wav[1] is EN_B00000_S00005_W000100\n",
      "wav[2] is EN_B00000_S00008_W000031\n"
     ]
    }
   ],
   "source": [
    "def id_key(id: str):\n",
    "    '''\n",
    "    排序函数:\n",
    "        将音频ID按照B、S、W后面的数字大小排序\n",
    "        比较时依次先比 B 段，再比 S 段，最后比 W 段（因为返回元组 (b_num, s_num, w_num)）\n",
    "    '''\n",
    "    parts = id.split('_')\n",
    "    b_num = int(parts[1][1:])  # 移除 'B' 并转为整数\n",
    "    s_num = int(parts[2][1:])  # 移除 'S' 并转为整数\n",
    "    w_num = int(parts[3][1:])  # 移除 'W' 并转为整数\n",
    "    return (b_num, s_num, w_num)  # 返回一个元组用于排序\n",
    "\n",
    "wav_ids = [\"EN_B00000_S00000_W000000\", \n",
    "           \"EN_B00000_S00008_W000031\", \n",
    "           \"EN_B00000_S00005_W000100\"]\n",
    "\n",
    "print(\"Sorting:\")\n",
    "for index, wav_id in enumerate(sorted(wav_ids, key = id_key)):\n",
    "    print(f\"wav[{index}] is {wav_id}\")"
   ]
  },
  {
   "cell_type": "markdown",
   "metadata": {},
   "source": [
    "## 5. 退出循环: `continue`和`break`\n",
    "- `break`: 终止使用它的循环\n",
    "- `continue`: 立即结束本次循环（跳过循环体中在continue语句之后的所有语句），重新开始下一轮循环\n",
    "\n",
    "> `break`和`continue`都可以用于`for`和`while`"
   ]
  },
  {
   "cell_type": "code",
   "execution_count": 43,
   "metadata": {},
   "outputs": [
    {
     "name": "stdout",
     "output_type": "stream",
     "text": [
      "Login successful!\n"
     ]
    }
   ],
   "source": [
    "real_password = \"123456\"\n",
    "max_attempts = 3\n",
    "for i in range(1, max_attempts + 1):\n",
    "    passwords = input(\"Please input the passwords:\")\n",
    "    if i <= max_attempts and not passwords:\n",
    "        print(\"Empty password. Try again!\")\n",
    "        continue\n",
    "    if i <= max_attempts and passwords == real_password:\n",
    "        print(\"Login successful!\")\n",
    "        break\n",
    "    print(\"Wrong password. Try again!\")\n",
    "# 循环可以和else配合使用\n",
    "# else下方缩进的代码指的是 当循环正常结束之后要执行的代码\n",
    "else:\n",
    "    print(\"The number of attempts has been used up.\")"
   ]
  }
 ],
 "metadata": {
  "kernelspec": {
   "display_name": "d2l",
   "language": "python",
   "name": "python3"
  },
  "language_info": {
   "codemirror_mode": {
    "name": "ipython",
    "version": 3
   },
   "file_extension": ".py",
   "mimetype": "text/x-python",
   "name": "python",
   "nbconvert_exporter": "python",
   "pygments_lexer": "ipython3",
   "version": "3.9.15"
  }
 },
 "nbformat": 4,
 "nbformat_minor": 2
}
