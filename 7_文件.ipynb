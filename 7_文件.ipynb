{
 "cells": [
  {
   "cell_type": "markdown",
   "metadata": {},
   "source": [
    "# 七、文件操作\n",
    "## 1. 路径处理相关模块\n",
    "### 1.1 os模块\n",
    "`os`: 提供跨平台的文件和目录操作接口，其中 `os.path` 子模块包含路径拼接、分割、规范化、判断等常用函数。"
   ]
  },
  {
   "cell_type": "markdown",
   "metadata": {},
   "source": [
    "`os.getcwd()`: 创建多级目录"
   ]
  },
  {
   "cell_type": "code",
   "execution_count": 37,
   "metadata": {},
   "outputs": [],
   "source": [
    "import os\n",
    "osCwd = os.getcwd()\n",
    "print(osCwd)"
   ]
  },
  {
   "cell_type": "markdown",
   "metadata": {},
   "source": [
    "`os.mkdir(\"path\")`: 创建单个目录"
   ]
  },
  {
   "cell_type": "code",
   "execution_count": 7,
   "metadata": {},
   "outputs": [],
   "source": [
    "os.mkdir(\"test\")"
   ]
  },
  {
   "cell_type": "markdown",
   "metadata": {},
   "source": [
    "`os.makedirs(\"path/to/project\", exist_ok=True)`: 创建多级目录\n",
    "\n",
    "- `exists_ok`: 是否在目录存在时触发异常，默认为`False`; 如果为`True`不触发异常\n",
    "- `os.mkdir` 不支持 `exist_ok`参数\n",
    "- `os.makedirs` 支持 `exist_ok`参数"
   ]
  },
  {
   "cell_type": "code",
   "execution_count": 11,
   "metadata": {},
   "outputs": [],
   "source": [
    "os.makedirs(\"test/ttest/tttest\")"
   ]
  },
  {
   "cell_type": "markdown",
   "metadata": {},
   "source": [
    "`os.listdir('path')`: 列出目录内容"
   ]
  },
  {
   "cell_type": "code",
   "execution_count": 13,
   "metadata": {},
   "outputs": [
    {
     "name": "stdout",
     "output_type": "stream",
     "text": [
      "EN_B00000.jsonl\n",
      "EN_B00001.jsonl\n",
      "EN_B00002.jsonl\n",
      "EN_B00003.jsonl\n",
      "EN_B00004.jsonl\n",
      "EN_B00005.jsonl\n",
      "EN_B00006.jsonl\n",
      "EN_B00007.jsonl\n",
      "EN_B00008.jsonl\n",
      "EN_B00009.jsonl\n"
     ]
    }
   ],
   "source": [
    "files = os.listdir(\"metadata/EN/\")\n",
    "for file in files:\n",
    "    print(file)"
   ]
  },
  {
   "cell_type": "markdown",
   "metadata": {},
   "source": [
    "`os.path`: 提供了一系列用于获取文件和目录属性的方法\n",
    "\n",
    "|方法|作用|\n",
    "|-|-|\n",
    "|os.path.join(path1[, path2[, ...]])|路径拼接|\n",
    "|os.path.abspath(path)|返回绝对路径|\n",
    "|os.path.basename(path)|返回路径中的文件名部分|\n",
    "|os.path.dirname(path)|返回路径中的目录部分|\n",
    "|os.path.exists(path)|判断路径是否存在|\n",
    "|os.path.isfile(path)|判断路径是否为文件|\n",
    "|os.path.isdir(path)|判断路径是否为目录|"
   ]
  },
  {
   "cell_type": "code",
   "execution_count": 36,
   "metadata": {},
   "outputs": [
    {
     "name": "stdout",
     "output_type": "stream",
     "text": [
      "metadata\\EN\\EN_B00000.jsonl\n",
      "\n",
      "EN_B00000.jsonl\n",
      "metadata\\EN\n",
      "True\n",
      "True\n",
      "False\n"
     ]
    }
   ],
   "source": [
    "mypath = \"EN_B00000.jsonl\"\n",
    "mypath_absolute = os.path.join(\"metadata\", \"EN\", mypath)\n",
    "print(mypath_absolute)\n",
    "print(os.path.abspath(\"test.txt\"))\n",
    "print(os.path.basename(mypath_absolute))\n",
    "print(os.path.dirname(mypath_absolute))\n",
    "print(os.path.exists(mypath_absolute))\n",
    "print(os.path.isfile(mypath_absolute))\n",
    "print(os.path.isdir(mypath_absolute))"
   ]
  },
  {
   "cell_type": "markdown",
   "metadata": {},
   "source": [
    "## 1.2 pathlib模块\n",
    "`pathlib`: 使用**面向对象**的编程方式来表示文件系统路径，可用于替换`os.path`\n",
    "\n",
    "`Path.cwd()`: 获取当前工作目录"
   ]
  },
  {
   "cell_type": "code",
   "execution_count": 40,
   "metadata": {},
   "outputs": [],
   "source": [
    "from pathlib import Path\n",
    "myPath = Path.cwd()\n",
    "print(myPath)"
   ]
  },
  {
   "cell_type": "markdown",
   "metadata": {},
   "source": [
    "`Path(...).mkdir(parents = True, exists_ok = True)`: 创建目录\n",
    "\n",
    "- `parents = True`: 当设置为 True ，将创建所有必要的父目录 (即创建多级目录)\n",
    "- `exists_ok`: 是否在目录存在时触发异常，默认为`False`; 如果为`True`不触发异常"
   ]
  },
  {
   "cell_type": "code",
   "execution_count": 26,
   "metadata": {},
   "outputs": [],
   "source": [
    "myPath = Path(\"test\")\n",
    "myPath.mkdir(exist_ok=True)"
   ]
  },
  {
   "cell_type": "markdown",
   "metadata": {},
   "source": [
    "`Path(...).iterdir()`: 返回指定目录中的所有文件和子目录的迭代器"
   ]
  },
  {
   "cell_type": "code",
   "execution_count": 30,
   "metadata": {},
   "outputs": [
    {
     "name": "stdout",
     "output_type": "stream",
     "text": [
      "metadata\\ZH\\ZH_B00000.jsonl\n",
      "metadata\\ZH\\ZH_B00001.jsonl\n",
      "metadata\\ZH\\ZH_B00002.jsonl\n",
      "metadata\\ZH\\ZH_B00003.jsonl\n",
      "metadata\\ZH\\ZH_B00004.jsonl\n",
      "metadata\\ZH\\ZH_B00005.jsonl\n",
      "metadata\\ZH\\ZH_B00006.jsonl\n",
      "metadata\\ZH\\ZH_B00007.jsonl\n",
      "metadata\\ZH\\ZH_B00008.jsonl\n",
      "metadata\\ZH\\ZH_B00009.jsonl\n"
     ]
    }
   ],
   "source": [
    "dirList = [dir for dir in Path('metadata/ZH').iterdir()]\n",
    "for dir in dirList:\n",
    "    print(dir)"
   ]
  },
  {
   "cell_type": "code",
   "execution_count": 31,
   "metadata": {},
   "outputs": [
    {
     "name": "stdout",
     "output_type": "stream",
     "text": [
      "ZH_B00000.jsonl\n",
      ".jsonl\n",
      "ZH_B00000\n",
      "metadata\\ZH\n"
     ]
    }
   ],
   "source": [
    "myPath = Path(\"metadata/ZH/ZH_B00000.jsonl\")\n",
    "print(myPath.name)\n",
    "print(myPath.suffix)\n",
    "print(myPath.stem)\n",
    "print(myPath.parent)"
   ]
  },
  {
   "cell_type": "markdown",
   "metadata": {},
   "source": [
    "路径判断:\n",
    "\n",
    "- `Path(...).exists()`: 判断路径是否存在\n",
    "- `Path(...).is_file()`: 判断路径是否为文件\n",
    "- `Path(...).is_dir()`: 判断路径是否为目录"
   ]
  },
  {
   "cell_type": "code",
   "execution_count": 34,
   "metadata": {},
   "outputs": [
    {
     "name": "stdout",
     "output_type": "stream",
     "text": [
      "True\n",
      "True\n",
      "False\n"
     ]
    }
   ],
   "source": [
    "myPath = Path(\"metadata/ZH/ZH_B00000.jsonl\")\n",
    "print(myPath.exists())\n",
    "print(myPath.is_file())\n",
    "print(myPath.is_dir())"
   ]
  },
  {
   "cell_type": "markdown",
   "metadata": {},
   "source": [
    "`Path('folder').joinpath('subfolder', 'file.txt')`: 路径拼接\n"
   ]
  },
  {
   "cell_type": "code",
   "execution_count": 5,
   "metadata": {},
   "outputs": [
    {
     "name": "stdout",
     "output_type": "stream",
     "text": [
      "metadata\\ZH\\ZH_B00000.jsonl\n",
      "metadata\\ZH\\ZH_B00000.jsonl\n"
     ]
    }
   ],
   "source": [
    "print(Path('metadata').joinpath('ZH', 'ZH_B00000.jsonl'))\n",
    "\n",
    "# 或者直接一点：\n",
    "print(Path('metadata')/'ZH'/'ZH_B00000.jsonl')"
   ]
  },
  {
   "cell_type": "markdown",
   "metadata": {},
   "source": [
    "## 2. 文件操作\n",
    "\n",
    "文件打开模式：\n",
    "\n",
    "|打开模式|文件类型|操作方式|文件不存在时|是否覆盖写|\n",
    "|-|-|-|-|-|\n",
    "|'r'|文本文件|可读|报错|否|\n",
    "|'r+'|文本文件|可读可写|报错|否|\n",
    "|'w'|文本文件|可写|创建新文件|是|\n",
    "|'w+'|文本文件|可读可写|创建新文件|是|\n",
    "|'a'|文本文件|可追加写|创建新文件|否|\n",
    "|'a+'|文本文件|可读可追加写|创建新文件|否|\n",
    "|'rb'|二进制文件|可读|报错|否|\n",
    "|'rb+'|二进制文件|可读可写|报错|否|\n",
    "|'wb'|二进制文件|可写|创建新文件|是|\n",
    "|'wb+'|二进制文件|可读可写|创建新文件|是|\n",
    "|'ab'|二进制文件|可追加写|创建新文件|否|\n",
    "|'ab+'|二进制文件|可读可追加写|创建新文件|否|\n",
    "\n",
    "文件操作：\n",
    "\n",
    "- `with open(filepath, mode) as f:`: 打开和关闭文件\n",
    "- `myStr = f.readline()`: 读出当前行，返回一个字符串\n",
    "- `myList = f.readlines()`: 读取文件中的所有行，并返回一个包含每行文本的列表\n",
    "- `f.write(...)`: 将字符串写入文件"
   ]
  },
  {
   "cell_type": "markdown",
   "metadata": {},
   "source": [
    "例1：读取单个jsonl"
   ]
  },
  {
   "cell_type": "code",
   "execution_count": 26,
   "metadata": {},
   "outputs": [
    {
     "name": "stdout",
     "output_type": "stream",
     "text": [
      "ZH_B00000_S00000_W000000\n",
      "ZH_B00000_S00000_W000001\n",
      "ZH_B00000_S00000_W000002\n",
      "ZH_B00000_S00000_W000003\n",
      "ZH_B00000_S00000_W000004\n",
      "ZH_B00000_S00000_W000005\n",
      "ZH_B00000_S00000_W000006\n",
      "ZH_B00000_S00000_W000007\n",
      "ZH_B00000_S00000_W000008\n",
      "ZH_B00000_S00001_W000000\n",
      "ZH_B00000_S00001_W000001\n",
      "ZH_B00000_S00001_W000002\n",
      "ZH_B00000_S00001_W000003\n",
      "ZH_B00000_S00001_W000004\n",
      "ZH_B00000_S00001_W000005\n",
      "ZH_B00000_S00001_W000006\n",
      "ZH_B00000_S00001_W000007\n",
      "ZH_B00000_S00001_W000008\n",
      "ZH_B00000_S00001_W000009\n",
      "ZH_B00000_S00001_W000010\n",
      "ZH_B00000_S00001_W000011\n",
      "ZH_B00000_S00001_W000012\n",
      "ZH_B00000_S00001_W000013\n",
      "ZH_B00000_S00001_W000014\n",
      "ZH_B00000_S00001_W000015\n",
      "ZH_B00000_S00001_W000016\n",
      "ZH_B00000_S00001_W000017\n",
      "ZH_B00000_S00001_W000018\n",
      "ZH_B00000_S00001_W000019\n",
      "ZH_B00000_S00001_W000020\n",
      "ZH_B00000_S00001_W000021\n",
      "ZH_B00000_S00001_W000022\n",
      "ZH_B00000_S00001_W000023\n",
      "ZH_B00000_S00001_W000024\n",
      "ZH_B00000_S00001_W000025\n",
      "ZH_B00000_S00001_W000026\n",
      "ZH_B00000_S00001_W000027\n",
      "ZH_B00000_S00001_W000028\n",
      "ZH_B00000_S00001_W000029\n",
      "ZH_B00000_S00001_W000030\n",
      "ZH_B00000_S00001_W000031\n",
      "ZH_B00000_S00001_W000032\n",
      "ZH_B00000_S00001_W000033\n",
      "ZH_B00000_S00001_W000034\n",
      "ZH_B00000_S00001_W000035\n",
      "ZH_B00000_S00001_W000036\n",
      "ZH_B00000_S00001_W000037\n",
      "ZH_B00000_S00001_W000038\n",
      "ZH_B00000_S00001_W000039\n",
      "ZH_B00000_S00001_W000040\n",
      "ZH_B00000_S00001_W000041\n",
      "ZH_B00000_S00001_W000042\n",
      "ZH_B00000_S00001_W000043\n",
      "ZH_B00000_S00001_W000044\n",
      "ZH_B00000_S00001_W000045\n",
      "ZH_B00000_S00001_W000046\n",
      "ZH_B00000_S00001_W000047\n",
      "ZH_B00000_S00001_W000048\n",
      "ZH_B00000_S00001_W000049\n",
      "ZH_B00000_S00001_W000050\n",
      "ZH_B00000_S00001_W000051\n",
      "ZH_B00000_S00001_W000052\n",
      "ZH_B00000_S00001_W000053\n",
      "ZH_B00000_S00001_W000054\n",
      "ZH_B00000_S00001_W000055\n",
      "ZH_B00000_S00001_W000056\n",
      "ZH_B00000_S00001_W000057\n",
      "ZH_B00000_S00001_W000058\n",
      "ZH_B00000_S00001_W000059\n",
      "ZH_B00000_S00001_W000060\n",
      "ZH_B00000_S00001_W000061\n",
      "ZH_B00000_S00001_W000062\n",
      "ZH_B00000_S00002_W000000\n",
      "ZH_B00000_S00002_W000001\n",
      "ZH_B00000_S00002_W000002\n",
      "ZH_B00000_S00002_W000003\n",
      "ZH_B00000_S00002_W000004\n",
      "ZH_B00000_S00002_W000005\n",
      "ZH_B00000_S00002_W000006\n",
      "ZH_B00000_S00002_W000007\n",
      "ZH_B00000_S00002_W000008\n",
      "ZH_B00000_S00002_W000009\n",
      "ZH_B00000_S00002_W000010\n",
      "ZH_B00000_S00002_W000011\n",
      "ZH_B00000_S00002_W000012\n",
      "ZH_B00000_S00002_W000013\n",
      "ZH_B00000_S00002_W000014\n",
      "ZH_B00000_S00002_W000015\n",
      "ZH_B00000_S00002_W000016\n",
      "ZH_B00000_S00002_W000017\n",
      "ZH_B00000_S00002_W000018\n",
      "ZH_B00000_S00002_W000019\n",
      "ZH_B00000_S00002_W000020\n",
      "ZH_B00000_S00002_W000021\n",
      "ZH_B00000_S00002_W000022\n",
      "ZH_B00000_S00002_W000023\n",
      "ZH_B00000_S00002_W000024\n",
      "ZH_B00000_S00002_W000025\n",
      "ZH_B00000_S00002_W000026\n",
      "ZH_B00000_S00003_W000000\n"
     ]
    }
   ],
   "source": [
    "from pathlib import Path\n",
    "import json\n",
    "file_name = 'ZH_B00000.jsonl'\n",
    "file_path = Path(f\"metadata/{file_name.split('_')[0]}/{file_name}\")\n",
    "with open(file_path, 'r') as f:\n",
    "    lines = f.readlines()\n",
    "    for line in lines:\n",
    "        obj = json.loads(line)\n",
    "        print(obj['id'])"
   ]
  },
  {
   "cell_type": "markdown",
   "metadata": {},
   "source": [
    "例2：批量过滤音频元数据文件\n",
    "\n",
    "需求描述：处理多语言音频元数据文件集（metadata），包含以下结构：\n",
    "\n",
    "- 两个语言文件夹：EN（英语）和 ZH（中文）\n",
    "- 每个语言文件夹下包含10个 JSONL 文件\n",
    "- 每个 JSONL 文件包含100条音频记录\n",
    "- 每条记录包含音频信息：id、text、duration、speaker、language、dnsmos等字段\n",
    "\n",
    "任务目标：根据质量标准过滤数据\n",
    "\n",
    "- 音频时长 > 5秒\n",
    "- DNSMOS评分 > 3.4\n",
    "- 将过滤后的数据保存到新的目录结构中\n",
    "- 统计并输出过滤后的数据量"
   ]
  },
  {
   "cell_type": "markdown",
   "metadata": {},
   "source": [
    "`tqdm`库：用于显示进度条，监控Python运行\n",
    "\n",
    "- 语法：`from i in tqdm(iterator, desc = \"\")`\n",
    "  - iterator：任意可迭代对象，如 list、tuple、dict、range、文件对象、生成器等，用于产生循环序列\n",
    "  - desc: 进度条的前缀/描述"
   ]
  },
  {
   "cell_type": "code",
   "execution_count": 25,
   "metadata": {},
   "outputs": [
    {
     "name": "stderr",
     "output_type": "stream",
     "text": [
      "100%|██████████| 2/2 [00:00<00:00, 62.04it/s]"
     ]
    },
    {
     "name": "stdout",
     "output_type": "stream",
     "text": [
      "\n",
      "----------------\n",
      "Filtered data statistics:\n",
      "ZH:\n",
      "    ZH_B00000.jsonl: 23\n",
      "    ZH_B00001.jsonl: 5\n",
      "    ZH_B00002.jsonl: 5\n",
      "    ZH_B00003.jsonl: 79\n",
      "    ZH_B00004.jsonl: 13\n",
      "    ZH_B00005.jsonl: 2\n",
      "    ZH_B00006.jsonl: 6\n",
      "    ZH_B00007.jsonl: 2\n",
      "    ZH_B00008.jsonl: 17\n",
      "    ZH_B00009.jsonl: 3\n",
      "EN:\n",
      "    EN_B00000.jsonl: 27\n",
      "    EN_B00001.jsonl: 4\n",
      "    EN_B00002.jsonl: 0\n",
      "    EN_B00003.jsonl: 6\n",
      "    EN_B00004.jsonl: 6\n",
      "    EN_B00005.jsonl: 6\n",
      "    EN_B00006.jsonl: 4\n",
      "    EN_B00007.jsonl: 12\n",
      "    EN_B00008.jsonl: 6\n",
      "    EN_B00009.jsonl: 17\n"
     ]
    },
    {
     "name": "stderr",
     "output_type": "stream",
     "text": [
      "\n"
     ]
    }
   ],
   "source": [
    "from tqdm import tqdm\n",
    "from pathlib import Path\n",
    "import json\n",
    "\n",
    "langs = ['ZH', 'EN']\n",
    "row_num = {}\n",
    "\n",
    "for lang in tqdm(langs):\n",
    "    row_num[lang] = {}\n",
    "    input_dir = Path('metadata') / lang\n",
    "    jsons = [d for d in input_dir.iterdir()]\n",
    "    output_dir = Path('metadata_filter') / lang\n",
    "    output_dir.mkdir(parents = True, exist_ok=True)\n",
    "    for json_path in jsons:\n",
    "        results = []\n",
    "        # 读\n",
    "        with open(json_path, 'r') as f:\n",
    "            lines = f.readlines()\n",
    "            for line in lines:\n",
    "                obj = json.loads(line)\n",
    "                duration = obj[\"duration\"]\n",
    "                dnsmos = obj[\"dnsmos\"]\n",
    "                if duration > 5 and dnsmos > 3.4:\n",
    "                    results.append(obj)\n",
    "        \n",
    "        row_num[lang][json_path.name] = len(results)\n",
    "        \n",
    "        # 写\n",
    "        output_json = output_dir / json_path.name\n",
    "        with open(output_json, 'w', encoding=\"utf-8\") as f:\n",
    "            for result in results:\n",
    "                f.write(json.dumps(result, ensure_ascii=False) + '\\n')\n",
    "\n",
    "print(\"\\n----------------\")\n",
    "print(f\"Filtered data statistics:\")\n",
    "for lang in langs:\n",
    "    print(f\"{lang}:\")\n",
    "    for key, value in row_num[lang].items():\n",
    "        print(f'    {key}: {value}')"
   ]
  }
 ],
 "metadata": {
  "kernelspec": {
   "display_name": "d2l",
   "language": "python",
   "name": "python3"
  },
  "language_info": {
   "codemirror_mode": {
    "name": "ipython",
    "version": 3
   },
   "file_extension": ".py",
   "mimetype": "text/x-python",
   "name": "python",
   "nbconvert_exporter": "python",
   "pygments_lexer": "ipython3",
   "version": "3.9.15"
  }
 },
 "nbformat": 4,
 "nbformat_minor": 2
}
